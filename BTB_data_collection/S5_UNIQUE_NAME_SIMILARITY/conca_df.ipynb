{
 "cells": [
  {
   "cell_type": "markdown",
   "metadata": {
    "collapsed": true
   },
   "source": [
    "# Small scripts for concatidating files\n"
   ]
  },
  {
   "cell_type": "code",
   "execution_count": null,
   "metadata": {
    "collapsed": true
   },
   "outputs": [],
   "source": []
  },
  {
   "cell_type": "code",
   "execution_count": null,
   "metadata": {
    "collapsed": true
   },
   "outputs": [],
   "source": [
    "import pandas as pd\n",
    "\n",
    "#NAR\n",
    "df1=pd.read_json('ALL_DATA/NAR/JSON/nar_00_03.json')\n",
    "df2=pd.read_json('ALL_DATA/NAR/JSON/nar_04_08.json')\n",
    "df3=pd.read_json('ALL_DATA/NAR/JSON/nar_09_12.json')\n",
    "df4=pd.read_json('ALL_DATA/NAR/JSON/nar_13_17.json')"
   ]
  },
  {
   "cell_type": "code",
   "execution_count": null,
   "metadata": {
    "collapsed": true
   },
   "outputs": [],
   "source": []
  },
  {
   "cell_type": "code",
   "execution_count": 36,
   "metadata": {
    "collapsed": true
   },
   "outputs": [],
   "source": [
    "#BIOINFORNACTICS\n",
    "\n",
    "df1=pd.read_json('ALL_DATA/BIOINF/JSON/bioinf_00_03.json')\n",
    "df2=pd.read_json('ALL_DATA/BIOINF/JSON/bioinf_04_08.json')\n",
    "df3=pd.read_json('ALL_DATA/BIOINF/JSON/bioinf_09_12.json')\n",
    "df4=pd.read_json('ALL_DATA/BIOINF/JSON/bioinf_13_17.json')"
   ]
  },
  {
   "cell_type": "code",
   "execution_count": 32,
   "metadata": {
    "collapsed": true
   },
   "outputs": [],
   "source": [
    "# All the articles from NAR (as of JULY 10th) 20,954\n",
    "# All the articles from BIINFORMATICS (as of JULY 10th) 10,695"
   ]
  },
  {
   "cell_type": "code",
   "execution_count": 2,
   "metadata": {
    "collapsed": true
   },
   "outputs": [],
   "source": [
    "frames = [df1, df2, df3, df4]\n",
    "result = pd.concat(frames)"
   ]
  },
  {
   "cell_type": "code",
   "execution_count": null,
   "metadata": {
    "collapsed": true
   },
   "outputs": [],
   "source": [
    "result.to_json(\"bio_00_17.json\", orient='records')"
   ]
  },
  {
   "cell_type": "code",
   "execution_count": null,
   "metadata": {
    "collapsed": true
   },
   "outputs": [],
   "source": []
  },
  {
   "cell_type": "code",
   "execution_count": 3,
   "metadata": {},
   "outputs": [
    {
     "data": {
      "text/plain": [
       "20954"
      ]
     },
     "execution_count": 3,
     "metadata": {},
     "output_type": "execute_result"
    }
   ],
   "source": [
    "len(result)"
   ]
  },
  {
   "cell_type": "code",
   "execution_count": 2,
   "metadata": {},
   "outputs": [],
   "source": [
    "import pandas as pd\n",
    "#join txts\n",
    "df1=pd.read_table('ALL_DATA/NAR/TOOLS_NEW/nar_tools_00_03_new.txt')\n",
    "df2=pd.read_table('ALL_DATA/NAR/TOOLS_NEW/nar_tools_04_08_new.txt')\n",
    "df3=pd.read_table('ALL_DATA/NAR/TOOLS_NEW/nar_tools_09_12_new.txt')\n",
    "df4=pd.read_table('ALL_DATA/NAR/TOOLS_NEW/nar_tools_13_17_new.txt')"
   ]
  },
  {
   "cell_type": "code",
   "execution_count": 3,
   "metadata": {
    "collapsed": true
   },
   "outputs": [],
   "source": [
    "frames = [df1, df2, df3, df4]\n",
    "result = pd.concat(frames)"
   ]
  },
  {
   "cell_type": "code",
   "execution_count": 4,
   "metadata": {},
   "outputs": [
    {
     "data": {
      "text/plain": [
       "3791"
      ]
     },
     "execution_count": 4,
     "metadata": {},
     "output_type": "execute_result"
    }
   ],
   "source": [
    "len(result)"
   ]
  },
  {
   "cell_type": "code",
   "execution_count": 5,
   "metadata": {
    "collapsed": true
   },
   "outputs": [],
   "source": [
    "result.to_csv(\"nar_tools_00_17.txt\",sep='\\t', encoding='utf-8')\n"
   ]
  },
  {
   "cell_type": "code",
   "execution_count": 8,
   "metadata": {
    "collapsed": true
   },
   "outputs": [],
   "source": [
    "import pandas as pd\n",
    "#join txts\n",
    "df1=pd.read_table('ALL_DATA/BIOINF/TXT/bioinf_00_03.txt')\n",
    "df2=pd.read_table('ALL_DATA/BIOINF/TXT/bioinf_04_08.txt')\n",
    "df3=pd.read_table('ALL_DATA/BIOINF/TXT/bioinf_09_12.txt')\n",
    "df4=pd.read_table('ALL_DATA/BIOINF/TXT/bioinf_13_17.txt')"
   ]
  },
  {
   "cell_type": "code",
   "execution_count": 9,
   "metadata": {
    "collapsed": true
   },
   "outputs": [],
   "source": [
    "frames = [df1, df2, df3, df4]\n",
    "result = pd.concat(frames)"
   ]
  },
  {
   "cell_type": "code",
   "execution_count": 11,
   "metadata": {
    "collapsed": true
   },
   "outputs": [],
   "source": [
    "result.to_csv(\"bioinf_00_17.txt\",sep='\\t', encoding='utf-8')\n"
   ]
  },
  {
   "cell_type": "code",
   "execution_count": null,
   "metadata": {
    "collapsed": true
   },
   "outputs": [],
   "source": [
    "import pandas as pd\n",
    "#join txts\n",
    "df1=pd.read_table('ALL_DATA/BIOINF/TOOLS/bioinf_00_03.txt')\n",
    "df2=pd.read_table('ALL_DATA/BIOINF/TXT/bioinf_04_08.txt')\n",
    "df3=pd.read_table('ALL_DATA/BIOINF/TXT/bioinf_09_12.txt')\n",
    "df4=pd.read_table('ALL_DATA/BIOINF/TXT/bioinf_13_17.txt')"
   ]
  },
  {
   "cell_type": "code",
   "execution_count": 69,
   "metadata": {
    "collapsed": true
   },
   "outputs": [],
   "source": [
    "import pandas as pd\n",
    "\n",
    "df1=pd.read_table('ALL_DATA/BIOINF/TOOLS/bio_active_links_00_17.txt')\n",
    "df2=pd.read_table('ALL_DATA/BMC/TOOLS/bmc_active_links_00_17.txt')\n",
    "df3=pd.read_table('ALL_DATA/NAR/TOOLS/nar_active_links_00_17.txt')\n",
    "df4=pd.read_table('ALL_DATA/DATABASE/TOOLS/database_active_links_09_17.txt')"
   ]
  },
  {
   "cell_type": "code",
   "execution_count": 74,
   "metadata": {
    "collapsed": true
   },
   "outputs": [],
   "source": [
    "df1.drop('Unnamed: 0.1.1.1', axis=1, inplace=True)"
   ]
  },
  {
   "cell_type": "code",
   "execution_count": 76,
   "metadata": {
    "collapsed": true
   },
   "outputs": [],
   "source": [
    "df1.drop('Unnamed: 0.1.1', axis=1, inplace=True)\n",
    "df2.drop('Unnamed: 0.1.1', axis=1, inplace=True)\n",
    "df3.drop('Unnamed: 0.1.1', axis=1, inplace=True)\n",
    "df4.drop('Unnamed: 0.1.1', axis=1, inplace=True)"
   ]
  },
  {
   "cell_type": "code",
   "execution_count": 81,
   "metadata": {
    "collapsed": true
   },
   "outputs": [],
   "source": [
    "df1.drop('year', axis=1, inplace=True)\n",
    "df3.drop('year', axis=1, inplace=True)\n",
    "df4.drop('year', axis=1, inplace=True)"
   ]
  },
  {
   "cell_type": "code",
   "execution_count": null,
   "metadata": {
    "collapsed": true
   },
   "outputs": [],
   "source": [
    "df1.drop('year', axis=1, inplace=True)"
   ]
  },
  {
   "cell_type": "code",
   "execution_count": 61,
   "metadata": {},
   "outputs": [
    {
     "data": {
      "text/plain": [
       "25"
      ]
     },
     "execution_count": 61,
     "metadata": {},
     "output_type": "execute_result"
    }
   ],
   "source": [
    "len(df1.columns)"
   ]
  },
  {
   "cell_type": "code",
   "execution_count": null,
   "metadata": {
    "collapsed": true
   },
   "outputs": [],
   "source": []
  },
  {
   "cell_type": "code",
   "execution_count": 86,
   "metadata": {
    "collapsed": true
   },
   "outputs": [],
   "source": [
    "df2[\"altmetric_link\"]=\"NULL\""
   ]
  },
  {
   "cell_type": "code",
   "execution_count": 48,
   "metadata": {},
   "outputs": [
    {
     "data": {
      "text/plain": [
       "25"
      ]
     },
     "execution_count": 48,
     "metadata": {},
     "output_type": "execute_result"
    }
   ],
   "source": [
    "len(df2.columns)"
   ]
  },
  {
   "cell_type": "code",
   "execution_count": 87,
   "metadata": {
    "collapsed": true
   },
   "outputs": [],
   "source": [
    "df2=df2[['Unnamed: 0', 'Unnamed: 0.1','title', 'link_to_tools', 'tag',\n",
    "     'views', 'citations_amount','altmetric_score', 'journal',\n",
    "         'authors', 'topics', 'abstract','date', 'citations_link', 'link',\n",
    "         'doi', 'references','all_links', 'altmetric_link',\n",
    "         'name_tool', 'homepage', 'info','active']]"
   ]
  },
  {
   "cell_type": "code",
   "execution_count": null,
   "metadata": {
    "collapsed": true
   },
   "outputs": [],
   "source": []
  },
  {
   "cell_type": "code",
   "execution_count": 56,
   "metadata": {
    "collapsed": true
   },
   "outputs": [],
   "source": [
    "df3.drop('year', axis=1, inplace=True)"
   ]
  },
  {
   "cell_type": "code",
   "execution_count": 46,
   "metadata": {},
   "outputs": [
    {
     "data": {
      "text/plain": [
       "25"
      ]
     },
     "execution_count": 46,
     "metadata": {},
     "output_type": "execute_result"
    }
   ],
   "source": [
    "len(df3.columns)"
   ]
  },
  {
   "cell_type": "code",
   "execution_count": null,
   "metadata": {
    "collapsed": true
   },
   "outputs": [],
   "source": []
  },
  {
   "cell_type": "code",
   "execution_count": 47,
   "metadata": {},
   "outputs": [
    {
     "data": {
      "text/plain": [
       "25"
      ]
     },
     "execution_count": 47,
     "metadata": {},
     "output_type": "execute_result"
    }
   ],
   "source": [
    "len(df4.columns)"
   ]
  },
  {
   "cell_type": "code",
   "execution_count": 88,
   "metadata": {},
   "outputs": [
    {
     "data": {
      "text/plain": [
       "Index([u'Unnamed: 0', u'Unnamed: 0.1', u'title', u'link_to_tools', u'tag',\n",
       "       u'views', u'citations_amount', u'altmetric_score', u'journal',\n",
       "       u'authors', u'topics', u'abstract', u'date', u'citations_link', u'link',\n",
       "       u'doi', u'references', u'all_links', u'altmetric_link', u'name_tool',\n",
       "       u'homepage', u'info', u'active'],\n",
       "      dtype='object')"
      ]
     },
     "execution_count": 88,
     "metadata": {},
     "output_type": "execute_result"
    }
   ],
   "source": [
    "df1.columns"
   ]
  },
  {
   "cell_type": "code",
   "execution_count": 89,
   "metadata": {},
   "outputs": [
    {
     "data": {
      "text/plain": [
       "Index([u'Unnamed: 0', u'Unnamed: 0.1', u'title', u'link_to_tools', u'tag',\n",
       "       u'views', u'citations_amount', u'altmetric_score', u'journal',\n",
       "       u'authors', u'topics', u'abstract', u'date', u'citations_link', u'link',\n",
       "       u'doi', u'references', u'all_links', u'altmetric_link', u'name_tool',\n",
       "       u'homepage', u'info', u'active'],\n",
       "      dtype='object')"
      ]
     },
     "execution_count": 89,
     "metadata": {},
     "output_type": "execute_result"
    }
   ],
   "source": [
    "df2.columns"
   ]
  },
  {
   "cell_type": "code",
   "execution_count": 90,
   "metadata": {},
   "outputs": [
    {
     "data": {
      "text/plain": [
       "Index([u'Unnamed: 0', u'Unnamed: 0.1', u'title', u'link_to_tools', u'tag',\n",
       "       u'views', u'citations_amount', u'altmetric_score', u'journal',\n",
       "       u'authors', u'topics', u'abstract', u'date', u'citations_link', u'link',\n",
       "       u'doi', u'references', u'all_links', u'altmetric_link', u'name_tool',\n",
       "       u'homepage', u'info', u'active'],\n",
       "      dtype='object')"
      ]
     },
     "execution_count": 90,
     "metadata": {},
     "output_type": "execute_result"
    }
   ],
   "source": [
    "df3.columns"
   ]
  },
  {
   "cell_type": "code",
   "execution_count": 91,
   "metadata": {},
   "outputs": [
    {
     "data": {
      "text/plain": [
       "Index([u'Unnamed: 0', u'Unnamed: 0.1', u'title', u'link_to_tools', u'tag',\n",
       "       u'views', u'citations_amount', u'altmetric_score', u'journal',\n",
       "       u'authors', u'topics', u'abstract', u'date', u'citations_link', u'link',\n",
       "       u'doi', u'references', u'all_links', u'altmetric_link', u'name_tool',\n",
       "       u'homepage', u'info', u'active'],\n",
       "      dtype='object')"
      ]
     },
     "execution_count": 91,
     "metadata": {},
     "output_type": "execute_result"
    }
   ],
   "source": [
    "df4.columns"
   ]
  },
  {
   "cell_type": "code",
   "execution_count": 92,
   "metadata": {
    "collapsed": true
   },
   "outputs": [],
   "source": [
    "frames = [df1, df2, df3, df4]\n",
    "result = pd.concat(frames)"
   ]
  },
  {
   "cell_type": "code",
   "execution_count": null,
   "metadata": {
    "collapsed": true
   },
   "outputs": [],
   "source": []
  },
  {
   "cell_type": "code",
   "execution_count": 93,
   "metadata": {
    "collapsed": true
   },
   "outputs": [],
   "source": [
    "result.to_csv(\"ALL_journals.txt\",sep='\\t', encoding='utf-8')"
   ]
  },
  {
   "cell_type": "code",
   "execution_count": null,
   "metadata": {
    "collapsed": true
   },
   "outputs": [],
   "source": []
  }
 ],
 "metadata": {
  "kernelspec": {
   "display_name": "Python 2",
   "language": "python",
   "name": "python2"
  },
  "language_info": {
   "codemirror_mode": {
    "name": "ipython",
    "version": 2
   },
   "file_extension": ".py",
   "mimetype": "text/x-python",
   "name": "python",
   "nbconvert_exporter": "python",
   "pygments_lexer": "ipython2",
   "version": "2.7.12"
  }
 },
 "nbformat": 4,
 "nbformat_minor": 2
}
